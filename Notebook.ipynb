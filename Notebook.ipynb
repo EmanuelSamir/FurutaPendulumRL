{
 "cells": [
  {
   "cell_type": "code",
   "execution_count": 2,
   "metadata": {},
   "outputs": [],
   "source": [
    "import numpy as np\n",
    "from keras.layers import Dense, Input, Lambda, Flatten\n",
    "from keras.models import Model\n",
    "import keras\n",
    "from keras.layers.advanced_activations import LeakyReLU\n",
    "from keras.optimizers import Adam\n",
    "from tqdm import tqdm"
   ]
  },
  {
   "cell_type": "code",
   "execution_count": 30,
   "metadata": {},
   "outputs": [],
   "source": [
    "\n",
    "MAXEPS = 50           # Set max number of episodes\n",
    "TSTEPS = 500           # Set max number of iterations because there are undefined states\n",
    "EPSILON = 0.8\t\n",
    "TLIM = 6\n",
    "ACTIONS = [-TLIM, 0, TLIM]\n",
    "ANGLE_MAX_INIT = 0.4           # For state initialization\n",
    "EPSILONMIN = 0.3\n",
    "\n",
    "ANGLERANGE = 0.7\n",
    "RATERANGE = 0.3\n",
    "\n",
    "GAMMA = 0.999\n",
    "\n",
    "TIMEDELTA = 0.05              # Timestep of integration. Each substep lasts this long.\n",
    "\n"
   ]
  },
  {
   "cell_type": "code",
   "execution_count": 89,
   "metadata": {},
   "outputs": [],
   "source": [
    "\n",
    "class NeuralNetwork:\n",
    "\tdef __init__(self, input_size, output_size):\n",
    "\t\tself.input_size = input_size\n",
    "\t\tself.output_size = output_size\n",
    "\n",
    "\t\t#optimizer = Adam(0.0002, 0.2)\n",
    "\n",
    "\t\tNNinput = Input(shape = (self.input_size,), name = 'NNinput')\n",
    "\t\tx = Dense(64, activation = 'relu')(NNinput)\n",
    "\t\tx = Dense(32, activation = 'relu')(x)\n",
    "\t\tNNoutput = Dense(self.output_size, activation = 'linear')(x)\n",
    "\t\tself.model = Model(inputs = NNinput, outputs = NNoutput)\n",
    "\t\tself.model.compile(loss = 'mean_squared_error', optimizer = 'adam')\n",
    "\n",
    "class Environment:\n",
    "\tdef __init__(self):\n",
    "\t\t# state_init = [ 2*ANGLE_MAX_INIT * np.randn() - ANGLE_MAX_INIT, 0. ]\n",
    "\t\tself.state = np.zeros([1,2]) #state_init\n",
    "\t\tself.episode = 0\n",
    "\t\tself.historyReward = []\n",
    "\t\tself.cumHistoryReward = []\n",
    "\n",
    "\tdef initialize(self):\n",
    "\t\tself.state = np.array([ [ 2*ANGLE_MAX_INIT * np.random.randn() - ANGLE_MAX_INIT, 0. ]] )\n",
    "\t\tself.historyReward = []\n",
    "\n",
    "\tdef updateEnv(self, action):\n",
    "\t\tnext_state = numericalIntegration(PendulumDynamics, self.state, action)\n",
    "        \n",
    "\t\tif ( (next_state[0][0] > np.pi - ANGLERANGE) and \n",
    "        \t\t(next_state[0][0] < np.pi + ANGLERANGE)   and\n",
    "        \t\t\t ( np.absolute(next_state[0][1]) < RATERANGE ) ):\n",
    "\t\t\tbonus = 20\n",
    "\t\t\tsuccess = True\n",
    "\n",
    "            # if length(bestSwingUp) > iter:\n",
    "            #     bestSwingUp = takenA(1:iter)\n",
    "            #     bestPosInit = posInit\n",
    "\t\telse:\n",
    "\t\t\tbonus = 0\n",
    "\t\t\tsuccess = False\n",
    "\n",
    "\t\treward = Rfunc(next_state[0][0], next_state[0][1]) + bonus\n",
    "\n",
    "\t\treturn next_state, reward, success\n",
    "\n",
    "\tdef rewardHistory(self, reward):\n",
    "\t\tself.historyReward.append(reward)\n",
    "\n",
    "\tdef checkIfCrashed(self, process):\n",
    "\t\tisCrashed = False\n",
    "\t\tif process == 'SwingUp':\n",
    "\t\t\tif np.absolute(self.state[0][1])  > 8 :\n",
    "\t\t\t\tisCrashed = True\n",
    "\t\t\tif (self.state[0][0] > 3*np.pi/2) or (self.state[0][0] < np.pi/2):\n",
    "\t\t\t\tisCrashed = True\n",
    "\t\treturn isCrashed\n",
    "\n",
    "\tdef nextEpisode(self):\n",
    "\t\tself.episode += 1\n",
    "\t\tself.cumHistoryReward.append(self.historyReward)\n",
    "\n",
    "def PendulumDynamics(state, torque):\n",
    "\tg = 9.8\n",
    "\tL = 1\n",
    "\tm = 1\n",
    "\tb = 0.01\n",
    "\t# state = state\n",
    "\tzdot = np.array([state[0][1], - g/L * np.sin(state[0][0]) + torque/m/L/L - b*state[0][1]/m/L/L])\n",
    "\treturn zdot\n",
    "\n",
    "def numericalIntegration(function_, state_init, input_, dt = TIMEDELTA):\n",
    "    state = state_init\n",
    "    for i in range(2):\n",
    "        k1 = function_(state,input_)\n",
    "        k2 = function_(state + dt / 2 *k1 ,input_)\n",
    "        k3 = function_(state + dt / 2 *k2 ,input_)\n",
    "        k4 = function_(state + dt * k3 ,input_)\n",
    "      \n",
    "        state = state + dt / 6 * (k1 + 2*k2 + 2*k3 + k4)\n",
    "    # print(state)\n",
    "    if (state[0][0] < 0) or (state[0][0] > 2*np.pi):\n",
    "        state[0][0] = wrapAngle(state[0][0])\n",
    "\n",
    "    return state\n",
    "\n",
    "class Agent:\n",
    "\tdef __init__(self, state_init):\n",
    "\t\tself.actions = np.array(ACTIONS)\n",
    "\t\t#print(np.shape(state_init,))\n",
    "\t\tself.state = state_init\n",
    "\t\tself.Qfuntion = NeuralNetwork(np.size(self.state), np.size(self.actions)) \n",
    "\t\tself.episode = 0\n",
    "\t\t\n",
    "\t\tself.actions = []\n",
    "\t\tself.states = []\n",
    "\t\tself.Qvalues = []\n",
    "\n",
    "\t\tself.memory = []\n",
    "\t\t\n",
    "\t\tself.NNhistory = []\n",
    "\t\tself.CostHistory = []\n",
    "\n",
    "\t\tself.best_action = []\n",
    "\n",
    "\tdef initialize(self, state_init):\n",
    "\t\tself.state = state_init\n",
    "\t\tself.actions = []\n",
    "\t\tself.Qvalues = []\n",
    "\t\tself.states = []\n",
    "\n",
    "\tdef updatePolicy(self, states, Qexpected, epochs = 2, batch_size = 100):\n",
    "\t\thistory = self.Qfuntion.model.fit(states, Qexpected, epochs = epochs, batch_size = batch_size, verbose = 0)\n",
    "\t\tself.NNhistory.append(history)\n",
    "\t\tJ = costFunction(Qexpected, np.squeeze(self.Qvalues))\t\n",
    "\t\tself.CostHistory.append(J)\n",
    "\n",
    "\tdef chooseAction(self, inputs):\n",
    "\t\tQhat = self.Qfuntion.model.predict(inputs)\n",
    "\t\tif np.random.rand(1) > EPSILON: \n",
    "\t\t\t# Qhat = np.max(Q)\n",
    "\t\t\tQhat_index = np.argmax(Qhat)\n",
    "\t\telse:\n",
    "\t\t\tQhat_index = np.random.randint(len(ACTIONS))\n",
    "\t\t\t# Qhat = \n",
    "\t\treturn Qhat_index, np.max(Qhat), Qhat\n",
    "\n",
    "\tdef updateMemory(self, state, action, q_v):\n",
    "\t\tself.states.append(state)\n",
    "\t\tself.actions.append(action)\n",
    "\t\tself.Qvalues.append(q_v)\n",
    "\n",
    "\tdef nextEpisode(self):\n",
    "\t\tself.episode += 1\n",
    "\t\tself.memory.append( np.concatenate( [np.expand_dims(np.array(self.actions), axis = 1), np.squeeze(np.array(self.states)), np.squeeze(np.array(self.Qvalues))] , axis = 1) ) \n",
    "\n",
    "\n",
    "def costFunction(output, yhat):\n",
    "\tJ = 0.5 * np.matmul( np.transpose((output - yhat)), (output - yhat))\n",
    "\treturn np.linalg.norm(J)\n",
    "\n",
    "def Rfunc(q, qdot):\n",
    "\treturn -((np.pi-np.absolute(q))**1 + 0.2*(np.absolute(qdot)**2))\n",
    "\n",
    "def wrapAngle(angle):\n",
    "\tnormalAngle = np.absolute(2*np.pi - np.absolute(angle))  # Normalization function \n",
    "\treturn normalAngle"
   ]
  },
  {
   "cell_type": "code",
   "execution_count": 90,
   "metadata": {},
   "outputs": [
    {
     "name": "stderr",
     "output_type": "stream",
     "text": [
      "Total episode: 100%|██████████ [ time left: 00:00 ]\n"
     ]
    }
   ],
   "source": [
    "import time\n",
    "# -------- Q-learning -------- #\n",
    "epsilonDecay = 0.999   # Decay after each episode\n",
    "success = False\n",
    "\n",
    "env = Environment()\t\n",
    "agent = Agent(env.state)\n",
    "\n",
    "eps = EPSILON\n",
    "time_lst = []\n",
    "time_lst.append(time.time())\n",
    "\n",
    "with tqdm(total=MAXEPS, desc=\"Total episode\", bar_format=\"{l_bar}{bar} [ time left: {remaining} ]\") as pbar:\n",
    "    \n",
    "\tfor episode in range(MAXEPS):\n",
    "\t\tpbar.update(1)\n",
    "\t\tenv.initialize()\n",
    "\t\tagent.initialize(env.state)\n",
    "\t\n",
    "\t\tfor step in range(TSTEPS):\n",
    "\t\t\t# Choose action from state suing policy\n",
    "\t\t\taction_i, _, _ = agent.chooseAction(agent.state)\n",
    "\t\t\t# Take action and see reward and next_state\n",
    "\t\t\tnext_state, reward, success = env.updateEnv(action_i)\n",
    "\t\t\t# Observe Q for next_state\n",
    "\t\t\t_, qhat_max, qhat = agent.chooseAction(next_state)\n",
    "\t\t\t# Save reward history\n",
    "\t\t\tenv.rewardHistory(reward)\n",
    "\t\t\t# Save\n",
    "\t\t\tqhat[0][action_i] = reward + GAMMA * qhat_max if success == False else reward\n",
    "\t\t\tagent.updateMemory(next_state, ACTIONS[action_i] , qhat)\n",
    "\t\t\t# state = next_state\n",
    "\t\t\tagent.state = next_state\n",
    "\t\t\tenv.state = next_state\n",
    "            \n",
    "\t\t\t# Check crashing\n",
    "\t\t\tif env.checkIfCrashed('SwingUp'):\n",
    "\t\t\t\tpass#break\n",
    "\n",
    "\t\t# Epsilon update\n",
    "\t\teps = (eps * epsilonDecay) if (eps >= EPSILONMIN) else eps\n",
    "\t\tagent.updatePolicy( np.squeeze(agent.states), np.squeeze(agent.Qvalues) )\n",
    "\t\tenv.nextEpisode()\n",
    "\t\tagent.nextEpisode()\n",
    "\t#agent.prepareData()\n",
    "\tsts = agent.states\n",
    "\tact = agent.actions\n",
    "\tbest = agent.best_action\n",
    "\t#showResults(sts,act,best)\n"
   ]
  },
  {
   "cell_type": "code",
   "execution_count": 34,
   "metadata": {},
   "outputs": [],
   "source": [
    "import matplotlib.pyplot as plt"
   ]
  },
  {
   "cell_type": "code",
   "execution_count": 111,
   "metadata": {},
   "outputs": [
    {
     "data": {
      "text/plain": [
       "[<matplotlib.lines.Line2D at 0x7fb049533438>]"
      ]
     },
     "execution_count": 111,
     "metadata": {},
     "output_type": "execute_result"
    },
    {
     "data": {
      "image/png": "[encoded data removed]",
      "text/plain": [
       "<Figure size 432x288 with 1 Axes>"
      ]
     },
     "metadata": {
      "needs_background": "light"
     },
     "output_type": "display_data"
    }
   ],
   "source": [
    "plt.plot(np.array(agent.memory)[10,:,2]  )"
   ]
  },
  {
   "cell_type": "code",
   "execution_count": 117,
   "metadata": {},
   "outputs": [
    {
     "data": {
      "text/plain": [
       "array([[-35.273388, -35.741817, -35.53657 ]], dtype=float32)"
      ]
     },
     "execution_count": 117,
     "metadata": {},
     "output_type": "execute_result"
    }
   ],
   "source": [
    "agent.Qfuntion.model.predict(np.array([[0.2,0]]))"
   ]
  }
 ],
 "metadata": {
  "kernelspec": {
   "display_name": "tf_env",
   "language": "python",
   "name": "tf_env"
  }
 },
 "nbformat": 4,
 "nbformat_minor": 2
}
